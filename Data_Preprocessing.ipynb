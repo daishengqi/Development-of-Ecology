{
 "cells": [
  {
   "cell_type": "markdown",
   "metadata": {},
   "source": [
    "# Data Preprocessing"
   ]
  },
  {
   "cell_type": "markdown",
   "metadata": {},
   "source": [
    "## 1. Break interested contents into Corpus\n",
    "In this research, the fields that we interested in were Titles, Abstracts, Keywords and WOS Keywords. Extract these fields into corpus by dividing them using space and lower all the words, moreover, the punctuations were deleted in this step."
   ]
  },
  {
   "cell_type": "code",
   "execution_count": null,
   "metadata": {
    "collapsed": true
   },
   "outputs": [],
   "source": [
    "import pandas as pd\n",
    "from string import *\n",
    "\n",
    "def delpunc(kstring):#Accepting STRINGS for puncutation deletion\n",
    "    for punc in punctuation:\n",
    "        kstring = kstring.replace(punc,' ')\n",
    "    return(kstring)\n",
    "\n",
    "def BreakintoCorpus(data,minwordlen): #Delete punctuation and short words, split sentence into Corpus Lists\n",
    "    result = [word.lower() for word in delpunc(data).split(' ') if len(word) > minwordlen]\n",
    "    return(result)\n",
    "\n",
    "Records = pd.read_csv('D:/_Research/Project_Ecological_Development/Data_Processing/Complete_Records_WOS_20171111.csv', encoding = u'utf-8')\n",
    "Records = Records.drop('Unnamed: 0', axis = 1)\n",
    "\n",
    "Title_Corpus = [BreakintoCorpus(title,0) for title in Records.TI]\n",
    "Abstract_Corpus = [BreakintoCorpus(str(abstract),0) for abstract in Records.AB] #str(abstracts) in case of NaN in most abstracts\n",
    "Keyword_Corpus = [str(keyword).split('; ') for keyword in Records.DE]\n",
    "WOSword_Corpus = [str(keyword).split('; ') for keyword in Records.ID]"
   ]
  },
  {
   "cell_type": "markdown",
   "metadata": {},
   "source": [
    "# 2. Save processed data to disk"
   ]
  },
  {
   "cell_type": "markdown",
   "metadata": {},
   "source": [
    "Save the restructured data into csv and xlsx files for future loading."
   ]
  },
  {
   "cell_type": "code",
   "execution_count": 3,
   "metadata": {
    "collapsed": true
   },
   "outputs": [],
   "source": [
    "PRecords.to_csv('D:/_Research/Project_Ecological_Development/Data_Processing/Complete_Records_WOS_20171111.csv', encoding = u'utf-8')"
   ]
  },
  {
   "cell_type": "code",
   "execution_count": 9,
   "metadata": {
    "collapsed": true
   },
   "outputs": [],
   "source": [
    "writer = pd.ExcelWriter('D:/_Research/Project_Ecological_Development/Data_Processing/Complete_Records_WOS_20171111.xlsx')\n",
    "PRecords.to_excel(writer, 'Sheet1')\n",
    "writer.save()"
   ]
  }
 ],
 "metadata": {
  "kernelspec": {
   "display_name": "Python 2",
   "language": "python",
   "name": "python2"
  },
  "language_info": {
   "codemirror_mode": {
    "name": "ipython",
    "version": 2
   },
   "file_extension": ".py",
   "mimetype": "text/x-python",
   "name": "python",
   "nbconvert_exporter": "python",
   "pygments_lexer": "ipython2",
   "version": "2.7.13"
  }
 },
 "nbformat": 4,
 "nbformat_minor": 2
}
